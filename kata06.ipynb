{
 "cells": [
  {
   "cell_type": "code",
   "execution_count": 7,
   "metadata": {},
   "outputs": [
    {
     "name": "stdout",
     "output_type": "stream",
     "text": [
      "Los planetas que existen en el sistema solar son: 7\n",
      "El ultimo es un planetoide de nombre: Pluton\n"
     ]
    }
   ],
   "source": [
    "#EJERCICIO 1\n",
    "\n",
    "planetas = [\"Mercurio\", \"Venus\", \"Tierra\", \"Marte\", \"Jupiter\", \"Saturno\", \"Neptuno\",]\n",
    "NumPlanetas = len(planetas)\n",
    "\n",
    "print(\"Los planetas que existen en el sistema solar son: \" + str(NumPlanetas))\n",
    "planetas.append(\"Pluton\")\n",
    "print (\"El ultimo es un planetoide de nombre: \" + str(planetas[-1]))\n"
   ]
  },
  {
   "cell_type": "code",
   "execution_count": 10,
   "metadata": {},
   "outputs": [
    {
     "name": "stdout",
     "output_type": "stream",
     "text": [
      "Este es el planeta más cercano al sol, conforme al que me diste: Tierra\n",
      "Este es el planeta más alejado del sol, conforme al que me diste: Jupiter\n"
     ]
    }
   ],
   "source": [
    "#EJERCICIO 2\n",
    "\n",
    "planetas = [\"Mercurio\", \"Venus\", \"Tierra\", \"Marte\", \"Jupiter\", \"Saturno\", \"Neptuno\",]\n",
    "PlanetaUsuario = input(\"Dame el nombre de un planeta (Iniciando con mayusculas): \")\n",
    "PlanetaSolicitado = planetas.index(PlanetaUsuario)\n",
    "print (\"Este es el planeta más cercano al sol, conforme al que me diste: \" +planetas[PlanetaSolicitado -1] )\n",
    "print (\"Este es el planeta más alejado del sol, conforme al que me diste: \" +planetas[PlanetaSolicitado +1] )\n"
   ]
  }
 ],
 "metadata": {
  "interpreter": {
   "hash": "07b9a44d2eedb9ab20fd9acd11aea582838b830d3433ceb7d0df927352ae8ef3"
  },
  "kernelspec": {
   "display_name": "Python 3.9.10 64-bit",
   "language": "python",
   "name": "python3"
  },
  "language_info": {
   "codemirror_mode": {
    "name": "ipython",
    "version": 3
   },
   "file_extension": ".py",
   "mimetype": "text/x-python",
   "name": "python",
   "nbconvert_exporter": "python",
   "pygments_lexer": "ipython3",
   "version": "3.9.10"
  },
  "orig_nbformat": 4
 },
 "nbformat": 4,
 "nbformat_minor": 2
}
