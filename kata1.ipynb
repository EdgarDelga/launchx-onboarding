{
 "cells": [
  {
   "cell_type": "code",
   "execution_count": 8,
   "metadata": {},
   "outputs": [
    {
     "name": "stdout",
     "output_type": "stream",
     "text": [
      "La fecha de hoy es: 2022-02-07\n",
      "11 parsec, is 0 lightyears\n"
     ]
    }
   ],
   "source": [
    "from datetime import date\n",
    "date.today\n",
    "\n",
    "print(\"La fecha de hoy es: \" + str(date.today()))\n",
    "\n",
    "parsec = 11\n",
    "\n",
    "lightyears = 0\n",
    "\n",
    "print(str(parsec) + \" parsec, is \" + str(lightyears) + \" lightyears\")"
   ]
  },
  {
   "cell_type": "code",
   "execution_count": 9,
   "metadata": {},
   "outputs": [
    {
     "name": "stdout",
     "output_type": "stream",
     "text": [
      "Bienvenido al programa de Bienvenida!\n",
      "Saludos: Edgar\n"
     ]
    }
   ],
   "source": [
    "print(\"Bienvenido al programa de Bienvenida!\")\n",
    "name = input (\"Introduce tu nombre\")\n",
    "print (\"Saludos: \" + name)\n"
   ]
  },
  {
   "cell_type": "code",
   "execution_count": 10,
   "metadata": {},
   "outputs": [
    {
     "name": "stdout",
     "output_type": "stream",
     "text": [
      "Calculadora de Sumas!\n",
      "Tu numero es: \n",
      "3\n"
     ]
    }
   ],
   "source": [
    "print (\"Calculadora de Sumas!\")\n",
    "num1 = input (\"Primer numero: \")\n",
    "num2 = input (\"Segundo numero: \")\n",
    "print (\"Tu numero es: \")\n",
    "print (int(num1) + int(num2))"
   ]
  }
 ],
 "metadata": {
  "interpreter": {
   "hash": "07b9a44d2eedb9ab20fd9acd11aea582838b830d3433ceb7d0df927352ae8ef3"
  },
  "kernelspec": {
   "display_name": "Python 3.9.10 64-bit",
   "language": "python",
   "name": "python3"
  },
  "language_info": {
   "codemirror_mode": {
    "name": "ipython",
    "version": 3
   },
   "file_extension": ".py",
   "mimetype": "text/x-python",
   "name": "python",
   "nbconvert_exporter": "python",
   "pygments_lexer": "ipython3",
   "version": "3.9.10"
  },
  "orig_nbformat": 4
 },
 "nbformat": 4,
 "nbformat_minor": 2
}
