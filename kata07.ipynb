{
 "cells": [
  {
   "cell_type": "code",
   "execution_count": 11,
   "metadata": {},
   "outputs": [
    {
     "name": "stdout",
     "output_type": "stream",
     "text": [
      "Tierra \n",
      "Marte\n",
      "Mercurio\n"
     ]
    }
   ],
   "source": [
    "# EJERCICIO 1\n",
    "\n",
    "new_planet = ''    \n",
    "planets = []\n",
    "\n",
    "while new_planet.lower() != \"done\":\n",
    "    if new_planet:\n",
    "        planets.append(new_planet)\n",
    "    new_planet= input(\"Ingresa un nuevo planeta o escribe done para acabar\")\n",
    "    \n",
    "#EJERCICIO 2\n",
    "\n",
    "for planet in planets:\n",
    "    print(planet)\n",
    "\n",
    "\n"
   ]
  }
 ],
 "metadata": {
  "interpreter": {
   "hash": "07b9a44d2eedb9ab20fd9acd11aea582838b830d3433ceb7d0df927352ae8ef3"
  },
  "kernelspec": {
   "display_name": "Python 3.9.10 64-bit",
   "language": "python",
   "name": "python3"
  },
  "language_info": {
   "codemirror_mode": {
    "name": "ipython",
    "version": 3
   },
   "file_extension": ".py",
   "mimetype": "text/x-python",
   "name": "python",
   "nbconvert_exporter": "python",
   "pygments_lexer": "ipython3",
   "version": "3.9.10"
  },
  "orig_nbformat": 4
 },
 "nbformat": 4,
 "nbformat_minor": 2
}
