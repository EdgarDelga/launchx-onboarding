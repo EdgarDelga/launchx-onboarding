{
 "cells": [
  {
   "cell_type": "code",
   "execution_count": 6,
   "metadata": {},
   "outputs": [
    {
     "name": "stdout",
     "output_type": "stream",
     "text": [
      "Hoy habrá un rayo de luz en el cielo!\n"
     ]
    }
   ],
   "source": [
    "# Añadir el código necesario para crear una variable que guarde la velocidad del asteroide.\n",
    "# Escribe una expresión de prueba para calcular si necesita una advertencia.\n",
    "# Agregue las instrucciones que se ejecutarán si la expresión de prueba es true o false.\n",
    "\n",
    "velocidad = input (\"¿Cuál es la velocidad del asteroide? \")\n",
    "if float(velocidad) < 19:\n",
    "    print ('¡No hay nada que ver!')\n",
    "\n",
    "else: \n",
    "    print (\"Hoy habrá un rayo de luz en el cielo!\")   \n",
    "\n",
    "\n",
    "\n"
   ]
  },
  {
   "cell_type": "code",
   "execution_count": 7,
   "metadata": {},
   "outputs": [
    {
     "name": "stdout",
     "output_type": "stream",
     "text": [
      "No se verá nada hoy!\n"
     ]
    }
   ],
   "source": [
    "# Agrega el código para crear una variable para un asteroide que viaja a 19 km/s\n",
    "# Escribe varias expresiones de prueba para determinar si puedes ver el rayo de luz desde la tierra\n",
    "# Agrega las instrucciones que se ejecutarán si las expresiones de prueba son True o False\n",
    "\n",
    "asteroide = 19\n",
    "if asteroide > 20:\n",
    "    print (\"Se puede ver un rayo de luz en el cielo!\")\n",
    "else: \n",
    "    print (\"No se verá nada hoy!\")\n"
   ]
  },
  {
   "cell_type": "code",
   "execution_count": 12,
   "metadata": {},
   "outputs": [
    {
     "name": "stdout",
     "output_type": "stream",
     "text": [
      "Nada que mostrar\n"
     ]
    }
   ],
   "source": [
    "# Agrega el código para crear nuevas variables para la velocidad y el tamaño del asteroide\n",
    "# Para probar el código, prueba con varias velocidades y tamaños\n",
    "# Escribe varias expresiones de prueba o combinaciones de expresiones de prueba para determinar qué mensaje se debe enviar a Tierra.\n",
    "\n",
    "velocidad = input (\"¿Qué velocidad tiene el ateroide? (km/s): \")\n",
    "tamaño = input (\"¿Qué tamaño tiene el ateroide (m): \")\n",
    "\n",
    "if float(velocidad) > 25 and float(tamaño) > 25:\n",
    "    print (\"Peligro inminente! Posible desastre por ateroide\")\n",
    "elif float(velocidad) >= 20:\n",
    "    print (\"Se verá un rayo de luz causado por un asteroide!\")\n",
    "elif float(tamaño) < 25:\n",
    "    print (\"Nada relevante que msotrar\")\n",
    "elif float(velocidad) < 25:\n",
    "    print (\"Nada que mostrar\")"
   ]
  }
 ],
 "metadata": {
  "interpreter": {
   "hash": "07b9a44d2eedb9ab20fd9acd11aea582838b830d3433ceb7d0df927352ae8ef3"
  },
  "kernelspec": {
   "display_name": "Python 3.9.10 64-bit",
   "language": "python",
   "name": "python3"
  },
  "language_info": {
   "codemirror_mode": {
    "name": "ipython",
    "version": 3
   },
   "file_extension": ".py",
   "mimetype": "text/x-python",
   "name": "python",
   "nbconvert_exporter": "python",
   "pygments_lexer": "ipython3",
   "version": "3.9.10"
  },
  "orig_nbformat": 4
 },
 "nbformat": 4,
 "nbformat_minor": 2
}
