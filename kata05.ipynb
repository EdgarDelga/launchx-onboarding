{
 "cells": [
  {
   "cell_type": "code",
   "execution_count": 10,
   "metadata": {},
   "outputs": [
    {
     "name": "stdout",
     "output_type": "stream",
     "text": [
      "La distancia, en kilometros de la Tierra entre jupiter es de: -628949330\n",
      "La distancia, en millas de la Tierra entre jupiter es de: -390577533.93\n"
     ]
    }
   ],
   "source": [
    "# EJERCICIO 1\n",
    "# Distancia entre planetas\n",
    "\n",
    "Tierra = 149597870  #km\n",
    "Jupiter = 778547200 #km\n",
    "\n",
    "Distancia = Tierra - Jupiter\n",
    "print (\"La distancia, en kilometros de la Tierra entre jupiter es de: \" + str(Distancia))\n",
    "Distancia = Distancia * 0.621\n",
    "print (\"La distancia, en millas de la Tierra entre jupiter es de: \" + str(Distancia))\n",
    "\n",
    "\n",
    "\n",
    "\n"
   ]
  },
  {
   "cell_type": "code",
   "execution_count": 12,
   "metadata": {},
   "outputs": [
    {
     "name": "stdout",
     "output_type": "stream",
     "text": [
      "La distancia en kilometros es: -91700000\n",
      "La distancia en millas es: -56945700.0\n"
     ]
    }
   ],
   "source": [
    "#EJERCICIO 2\n",
    "\n",
    "Planeta1 = input (\"Distancia del sol al primer planeta (km)? \")\n",
    "Planeta2 = input (\"Distancia del sol al segundo planeta (km)? \")\n",
    "\n",
    "Planeta1 = int(Planeta1)\n",
    "Planeta2 = int(Planeta2)\n",
    "\n",
    "Distanciakm = Planeta1 - Planeta2\n",
    "print (\"La distancia en kilometros es: \" + str(Distanciakm))\n",
    "Distanciamilla = Distanciakm * .621\n",
    "print (\"La distancia en millas es: \" + str(Distanciamilla))\n",
    "\n"
   ]
  }
 ],
 "metadata": {
  "interpreter": {
   "hash": "07b9a44d2eedb9ab20fd9acd11aea582838b830d3433ceb7d0df927352ae8ef3"
  },
  "kernelspec": {
   "display_name": "Python 3.9.10 64-bit",
   "language": "python",
   "name": "python3"
  },
  "language_info": {
   "codemirror_mode": {
    "name": "ipython",
    "version": 3
   },
   "file_extension": ".py",
   "mimetype": "text/x-python",
   "name": "python",
   "nbconvert_exporter": "python",
   "pygments_lexer": "ipython3",
   "version": "3.9.10"
  },
  "orig_nbformat": 4
 },
 "nbformat": 4,
 "nbformat_minor": 2
}
